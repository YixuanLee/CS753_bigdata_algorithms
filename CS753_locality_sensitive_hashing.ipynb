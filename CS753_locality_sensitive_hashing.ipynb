{
 "cells": [
  {
   "cell_type": "raw",
   "id": "fc04b85d",
   "metadata": {},
   "source": [
    "CS753 Assignment 1 LSH \n"
   ]
  },
  {
   "cell_type": "markdown",
   "id": "d41e637e",
   "metadata": {},
   "source": [
    "This core component in this assignment is to construct a document retrieval system upon the\n",
    "LSH framework. This assignment consists of three parts. Please write a python program to\n",
    "complete the following components:\n",
    "● Part I: Construct LSH Hash Tables for All News Articles\n",
    "● Part II: Perform Nearest Neighbor Search for Query Dataset\n",
    "● Part III: Investigate the Impact of the hash size (k). Plots the Search Quality in F1-score."
   ]
  },
  {
   "cell_type": "markdown",
   "id": "2f50cac9",
   "metadata": {},
   "source": [
    "Part I: Construct LSH Hash Tables for All News Articles\n",
    "(a) Load the dataset and construct a feature vector for each news article in the dataset. Please\n",
    "report the number of articles, and the number of features (𝑛). [5 pts]"
   ]
  },
  {
   "cell_type": "code",
   "execution_count": 4,
   "id": "775c3b08",
   "metadata": {},
   "outputs": [
    {
     "name": "stdout",
     "output_type": "stream",
     "text": [
      "Total number of articles:  534\n",
      "Total number of features:  14927\n"
     ]
    }
   ],
   "source": [
    "import pandas as pd\n",
    "import numpy as np\n",
    "import random\n",
    "import seaborn as sns\n",
    "import matplotlib.pyplot as plt\n",
    "import time\n",
    "\n",
    "file = pd.read_csv(r\"...bitvector_all.csv\",header = None,index_col = 0,delimiter ='\\t')\n",
    "file.drop(file.columns[14927],axis=1,inplace=True) #remove last column which is not binary code\n",
    "file_query = pd.read_csv(r\"...bitvector_query.csv\",header = None,index_col = 0,delimiter ='\\t')\n",
    "file_query.drop(file_query.columns[14927],axis=1,inplace=True)\n",
    "# convert bitvector to nXm dimensional array\n",
    "array_all = file.values.tolist()\n",
    "array_query = file_query.values.tolist()\n",
    "#range row 0 - 533, col 0-14926 \n",
    "print(\"Total number of articles: \",str(len(file))) \n",
    "print(\"Total number of features: \",str(len(file.columns)))\n"
   ]
  },
  {
   "cell_type": "markdown",
   "id": "d68c354c",
   "metadata": {},
   "source": [
    "(b) Construct a family of MinHash functions in the LSH family by taking a prime 𝑝 ≥ 𝑛 and for\n",
    "0 < 𝑎 < 𝑝, 0 ≤ 𝑏 < 𝑝 with the number of tables (l=10) and a tunable choice of hash size (k).\n",
    "Please report the family of MinHash functions you have generated with l=10 and k=2. [15 pts]"
   ]
  },
  {
   "cell_type": "code",
   "execution_count": 5,
   "id": "13818052",
   "metadata": {},
   "outputs": [
    {
     "name": "stdout",
     "output_type": "stream",
     "text": [
      "Dimension of level 1 LSH: (10, 534, 2)\n",
      "L= 1\n",
      "( hash function 2  is: ( 14089 *x +  7050 ) mod  29989 , mod 14928\n",
      "( hash function 1  is: ( 2805 *x +  3998 ) mod  29989 , mod 14928\n",
      "L= 2\n",
      "( hash function 2  is: ( 12458 *x +  9363 ) mod  29989 , mod 14928\n",
      "( hash function 1  is: ( 652 *x +  2064 ) mod  29989 , mod 14928\n",
      "L= 3\n",
      "( hash function 2  is: ( 3894 *x +  13010 ) mod  29989 , mod 14928\n",
      "( hash function 1  is: ( 10357 *x +  945 ) mod  29989 , mod 14928\n",
      "L= 4\n",
      "( hash function 2  is: ( 1928 *x +  12319 ) mod  29989 , mod 14928\n",
      "( hash function 1  is: ( 2732 *x +  6245 ) mod  29989 , mod 14928\n",
      "L= 5\n",
      "( hash function 2  is: ( 2491 *x +  11149 ) mod  29989 , mod 14928\n",
      "( hash function 1  is: ( 7709 *x +  1812 ) mod  29989 , mod 14928\n",
      "L= 6\n",
      "( hash function 2  is: ( 8141 *x +  501 ) mod  29989 , mod 14928\n",
      "( hash function 1  is: ( 5725 *x +  14525 ) mod  29989 , mod 14928\n",
      "L= 7\n",
      "( hash function 2  is: ( 13115 *x +  14439 ) mod  29989 , mod 14928\n",
      "( hash function 1  is: ( 8654 *x +  4136 ) mod  29989 , mod 14928\n",
      "L= 8\n",
      "( hash function 2  is: ( 1946 *x +  11220 ) mod  29989 , mod 14928\n",
      "( hash function 1  is: ( 12156 *x +  1637 ) mod  29989 , mod 14928\n",
      "L= 9\n",
      "( hash function 2  is: ( 3735 *x +  5763 ) mod  29989 , mod 14928\n",
      "( hash function 1  is: ( 12999 *x +  9500 ) mod  29989 , mod 14928\n",
      "L= 10\n",
      "( hash function 2  is: ( 3876 *x +  10764 ) mod  29989 , mod 14928\n",
      "( hash function 1  is: ( 7299 *x +  10285 ) mod  29989 , mod 14928\n"
     ]
    }
   ],
   "source": [
    "## random coefficient / hash function generator\n",
    "# this function is for showing the resulting MinHash functions as required per question A1(b).\n",
    "def RandCoeffs_result(K,p):\n",
    "    # Create a list of random values.\n",
    "    prime = 29989\n",
    "    randList_a = []\n",
    "    randList_b = []\n",
    "    while K >0:\n",
    "        randIndex_a = random.randint(1, p-1) # coeff a >0 and < prime\n",
    "        randIndex_b = random.randint(0, p-1) # coeff b >=0 and < prime\n",
    "        # Ensure that each random number is unique.\n",
    "        while randIndex_a in randList_a or randIndex_b in randList_b:\n",
    "            randIndex_a = random.randint(1, p-1)\n",
    "            randIndex_b = random.randint(0, p-1)        \n",
    "        # Add the random number to the list.\n",
    "        print(\"(\",\"hash function\",K,\" is: (\", randIndex_a, \"*x + \", randIndex_b, \") mod \", (prime),\", mod\", p)\n",
    "        randList_a.append(randIndex_a)\n",
    "        randList_b.append(randIndex_b)\n",
    "        K = K - 1\n",
    "    return [randList_a,randList_b]\n",
    "# this random coefficient function is for LSH computation, the only difference with RandCoeffs_result() is without printing hash functions\n",
    "def RandCoeffs_level1(K,p):\n",
    "    # Create a list of random values.\n",
    "    randList_a = []\n",
    "    randList_b = []\n",
    "    while K >0:\n",
    "        randIndex_a = random.randint(1, p-1) # coeff a >0 and < prime\n",
    "        randIndex_b = random.randint(0, p-1) # coeff b >=0 and < prime\n",
    "        # Ensure that each random number is unique.\n",
    "        while randIndex_a in randList_a or randIndex_b in randList_b:\n",
    "            randIndex_a = random.randint(1, p-1)\n",
    "            randIndex_b = random.randint(0, p-1)        \n",
    "        # Add the random number to the list.\n",
    "        randList_a.append(randIndex_a)\n",
    "        randList_b.append(randIndex_b)\n",
    "        K = K - 1\n",
    "    return [randList_a,randList_b]\n",
    "\n",
    "# Minhash bitvector array into k dimensional signature matrix, number of hash tables as L\n",
    "\n",
    "def minhash_level1(array,k,L):\n",
    "    signatures =[]\n",
    "    for l in range(L):\n",
    "        signature =np.zeros(shape=(len(array),k))\n",
    "        prime = 29989\n",
    "        p = len(array[0])\n",
    "        coeffA_list,coeffB_list=RandCoeffs_level1(k,prime)\n",
    "        for i in range(len(array)): # loop over all documents            \n",
    "            for kvalue in range(k): # loop over No. of hash functions(signatures)\n",
    "                minHashCode = prime\n",
    "                for j in range(len(array[0])):# loop over features/columns per documents                \n",
    "                    if array[i][j]==1:                    \n",
    "                        hashCode = ((coeffA_list[kvalue] * j + coeffB_list[kvalue]) % prime) % p\n",
    "                        if hashCode < minHashCode:\n",
    "                            minHashCode = hashCode\n",
    "                signature[i][kvalue]=minHashCode\n",
    "            # Store the MinHash signature for this document.\n",
    "        signatures.append(signature)\n",
    "    return(np.array(signatures))\n",
    "        \n",
    "# generate 3 dimensional array (L,n,k): L=10 is number of hash table, n is number of documents, k=2 is number of signatures\n",
    "result1 = minhash_level1(array_all,2,10)\n",
    "print(\"Dimension of level 1 LSH:\", result1.shape)\n",
    "# report 2 signatures, 10 bands hashfunctions\n",
    "for i in range(10):\n",
    "    k=2\n",
    "    p=len(array_all[0])+1\n",
    "    print(\"L=\",i+1)\n",
    "    RandCoeffs_result(k,p)"
   ]
  },
  {
   "cell_type": "markdown",
   "id": "bb7138f0",
   "metadata": {},
   "source": [
    "(c) Construct LSH hash tables using your hash functions with the number of tables (l=10) and bucket size of your choice (m). Please report the collision distribution of the l hash tables with all documents hashed into m buckets using heatmap plot, where x-axis is m, y-axis is l=10, and the values at (m,l) refers to the number of colliding articles). [20 pts]"
   ]
  },
  {
   "cell_type": "code",
   "execution_count": 7,
   "id": "86f97beb",
   "metadata": {},
   "outputs": [
    {
     "name": "stdout",
     "output_type": "stream",
     "text": [
      "dimension of level 2 LSH (10, 534)\n"
     ]
    },
    {
     "data": {
      "text/plain": [
       "Text(0.5, 1.0, 'Heatmap of LSH Hashtable K=2, L=10')"
      ]
     },
     "execution_count": 7,
     "metadata": {},
     "output_type": "execute_result"
    },
    {
     "data": {
      "image/png": "[encoded data removed]",
      "text/plain": [
       "<Figure size 1000x1000 with 2 Axes>"
      ]
     },
     "metadata": {},
     "output_type": "display_data"
    }
   ],
   "source": [
    "## construct second level hash functions based on 3d array generated from 1(b),\n",
    "# generate coefficients for second level hashing (a0,a1,...)\n",
    "def RandCoeffs_level2(r,p):\n",
    "    # Create a list of random values.\n",
    "    randList =[] \n",
    "    # the first value in randList is a0 (a0 >=0 and <p)\n",
    "    randIndex_a0 = random.randint(0,p-1)\n",
    "    randList.append(randIndex_a0)\n",
    "    while r > 0:\n",
    "        randIndex_a = random.randint(1, p-1) # coeff a1...ar >0 and < prime\n",
    "        # Ensure that each random number is unique.\n",
    "        while randIndex_a in randList:\n",
    "            randIndex_a = random.randint(1,p-1) \n",
    "        # Add the random number to the list.\n",
    "        randList.append(randIndex_a)        \n",
    "        r = r - 1\n",
    "    return (randList)\n",
    "# function for both level locality sensitive hashing and generate LXN matrix(L is no. of bands and N is no. of Docs)\n",
    "def minhash_level2(array2,ksig,band):\n",
    "    signatures2 =[]\n",
    "    prime = len(array2[0])+1\n",
    "    m = len(array2)+100\n",
    "    result = minhash_level1(array2,ksig,band) #level 1-LSH hashing signatures\n",
    "    for l in range(band):\n",
    "        signature =[]\n",
    "        coeffa = RandCoeffs_level2(ksig,prime)\n",
    "        for i in range(len(array2)): # loop over all documents            \n",
    "            hashcode = coeffa[0] # a0 (kvalue =0)\n",
    "            cumsum_hashcode = 0\n",
    "            hashcode_sum =0\n",
    "            kvalue=1\n",
    "            while kvalue <= ksig: # loop over No. of hash functions(signatures)\n",
    "                cumsum_hashcode += (coeffa[kvalue] * result[l,i,kvalue-1])\n",
    "                kvalue = kvalue+1\n",
    "                hashcode_sum = ((hashcode + cumsum_hashcode)%(prime))%m #((a0+a1x1+a2x2...)mod p)mod m \n",
    "            # Store the MinHash signature i document.\n",
    "            signature.append(hashcode_sum)\n",
    "        signatures2.append(signature)\n",
    "    return(np.array(signatures2))\n",
    "\n",
    "# generate hashtables of size MxL (size of bucket by number of bands)\n",
    "result2 = minhash_level2(array_all,2,10)\n",
    "print(\"dimension of level 2 LSH\" ,result2.shape)\n",
    "#print(result)\n",
    "plt.figure(figsize=(10,10))\n",
    "sns.heatmap(result2)\n",
    "plt.title(\"Heatmap of LSH Hashtable K=2, L=10\")\n"
   ]
  },
  {
   "cell_type": "markdown",
   "id": "23cd49a7",
   "metadata": {},
   "source": [
    "Part II: Nearest Neighbor Search \n",
    "(a) For each query document q in our queries dataset 𝑄, firstly, find the set of\n",
    "articles Dq that collide with q in at least one hash table. Compute Jaccard similarity between q\n",
    "and each article in Dq . Please report the list of top-10 articles with highest Jaccard similarity in\n",
    "descending order for each query q (i.e., four lists in total). The article with the highest Jaccard\n",
    "similarity is ranked at 1. Each row of the list is of the form <news_id> <Jaccard_sim>\n",
    "<class_label> for one query q. [20 pts]"
   ]
  },
  {
   "cell_type": "code",
   "execution_count": 56,
   "id": "4ec71fa3",
   "metadata": {},
   "outputs": [
    {
     "name": "stdout",
     "output_type": "stream",
     "text": [
      "dimension of LSH similarity table:  (4, 534)\n",
      "ID of query document  531\n",
      "   news_id  Jaccard_sim    class_label\n",
      "0      531          1.0  entertainment\n",
      "1      432          0.1  entertainment\n",
      "2      510          0.1  entertainment\n",
      "3       57          0.1  entertainment\n",
      "4      505          0.1           tech\n",
      "5      245          0.1  entertainment\n",
      "6      352          0.1  entertainment\n",
      "7      188          0.1  entertainment\n",
      "8      225          0.1  entertainment\n",
      "9      350          0.1           tech\n",
      "ID of query document  532\n",
      "   news_id  Jaccard_sim    class_label\n",
      "0      532          1.0  entertainment\n",
      "1      495          0.1           tech\n",
      "2      513          0.1           tech\n",
      "3       25          0.1           tech\n",
      "4      381          0.1  entertainment\n",
      "5      479          0.1           tech\n",
      "6       91          0.1           tech\n",
      "7      456          0.1  entertainment\n",
      "8      169          0.1           tech\n",
      "9      198          0.1  entertainment\n",
      "ID of query document  533\n",
      "   news_id  Jaccard_sim    class_label\n",
      "0      533          1.0           tech\n",
      "1      244          0.2           tech\n",
      "2       60          0.2           tech\n",
      "3      418          0.1  entertainment\n",
      "4      378          0.1           tech\n",
      "5      214          0.1           tech\n",
      "6      241          0.1           tech\n",
      "7      240          0.1  entertainment\n",
      "8      455          0.1           tech\n",
      "9      224          0.1  entertainment\n",
      "ID of query document  534\n",
      "   news_id  Jaccard_sim    class_label\n",
      "0      534          1.0           tech\n",
      "1       63          0.1  entertainment\n",
      "2      191          0.1           tech\n",
      "3      319          0.1           tech\n",
      "4      492          0.1           tech\n",
      "5      174          0.1  entertainment\n",
      "6      368          0.1  entertainment\n",
      "7      429          0.1  entertainment\n",
      "8      413          0.1           tech\n",
      "9      466          0.1           tech\n"
     ]
    }
   ],
   "source": [
    "start_LSH = time.time()\n",
    "# group bitvector_query (first four rows) and bitvector_all\n",
    "array_compare=array_query+array_all\n",
    "# do LSH for array_compare data\n",
    "result_query = minhash_level2(array_compare,2,10)\n",
    "#split resulting 10X538 array into Q:the first 4 columns query documents and Dq: the rest columns all documents\n",
    "Q =result_query[:,0:4]\n",
    "Dq = result_query[:,4:539]\n",
    "# compute Jaccard similarity \n",
    "def LSH_jac(Q,Dq):\n",
    "    jac_list3=[]\n",
    "    for i in range(len(Q[0])):  # loop over 4 columns in query doc  \n",
    "        jac_list2=[]\n",
    "        for j in range(len(Dq[0])): # loop over 534 columns in all doc\n",
    "            count = 0\n",
    "            for row in range(len(Q)):  # loop over 10 bands\n",
    "                if Q[row,i]==Dq[row,j]: # compare LSH value\n",
    "                    count+=1\n",
    "            jaccar = count/len(Q)       # compute jaccard similarity \n",
    "            jac_list2.append(jaccar)\n",
    "        jac_list3.append(jac_list2)\n",
    "    jac_LSHarray = np.array(jac_list3)\n",
    "    return(jac_LSHarray)\n",
    "\n",
    "LSHarray=LSH_jac(Q,Dq)        \n",
    "print(\"dimension of LSH similarity table: \", LSHarray.shape)    \n",
    "# return list of news_id, jaccard_sim, and class_label\n",
    "D_file = pd.read_csv(r\"C:\\Users\\ylive\\OneDrive\\Desktop\\bitvector_all.csv\",header = None,index_col = 0,delimiter ='\\t')\n",
    "def doclist(doc_bitvector,jacarray):\n",
    "    doc_list =[]\n",
    "    for i in range(len(jacarray)):\n",
    "        class_label =[]\n",
    "        # sort Doc ID and jaccard similarity reversely and store in a list as Dq_top10\n",
    "        Dq_top10 = (np.argsort(-jacarray[i,:])[:10]+1).tolist()\n",
    "        jac_list = sorted(jacarray[i,:],reverse=True)[:10]\n",
    "        # get class label from original bitvector.csv file\n",
    "        for j in range(10):\n",
    "            docID =Dq_top10[j]\n",
    "            class_label.append(doc_bitvector.loc[docID,14928])\n",
    "        # print result as a dataframe\n",
    "        df = pd.DataFrame(list(zip(Dq_top10,jac_list,class_label)),columns=['news_id', 'Jaccard_sim','class_label'])\n",
    "        doc_list.append(df)\n",
    "    return(doc_list)\n",
    "# print result of top 10 jaccard similarity of LSH hash tables\n",
    "for i in range(4):\n",
    "    print(\"ID of query document \",i+531)\n",
    "    print(doclist(D_file,LSHarray)[i])\n",
    "end_LSH = time.time()"
   ]
  },
  {
   "cell_type": "markdown",
   "id": "d6b8607a",
   "metadata": {},
   "source": [
    "(b) Compute Jaccard similarity for query q and all articles in the dataset. Please report the list of\n",
    "top-10 articles with highest Jaccard similarity in descending order for each query q (i.e., four\n",
    "lists in total). [10 pts]."
   ]
  },
  {
   "cell_type": "code",
   "execution_count": 55,
   "id": "72a104a6",
   "metadata": {},
   "outputs": [
    {
     "name": "stdout",
     "output_type": "stream",
     "text": [
      "dimension of ground_truth similarity table:  (4, 534)\n",
      "ID of query document  531\n",
      "   news_id  Jaccard_sim    class_label\n",
      "0      531       1.0000  entertainment\n",
      "1      145       0.1972  entertainment\n",
      "2       70       0.1678  entertainment\n",
      "3      314       0.1654  entertainment\n",
      "4      130       0.1146  entertainment\n",
      "5      412       0.0724  entertainment\n",
      "6      317       0.0645  entertainment\n",
      "7      503       0.0621  entertainment\n",
      "8       35       0.0621  entertainment\n",
      "9      321       0.0603  entertainment\n",
      "ID of query document  532\n",
      "   news_id  Jaccard_sim    class_label\n",
      "0      532       1.0000  entertainment\n",
      "1      419       0.0941  entertainment\n",
      "2       42       0.0940  entertainment\n",
      "3      520       0.0923  entertainment\n",
      "4      524       0.0921           tech\n",
      "5      251       0.0912  entertainment\n",
      "6      197       0.0912  entertainment\n",
      "7      221       0.0905           tech\n",
      "8      501       0.0905           tech\n",
      "9      125       0.0892           tech\n",
      "ID of query document  533\n",
      "   news_id  Jaccard_sim class_label\n",
      "0      533       1.0000        tech\n",
      "1       64       0.1667        tech\n",
      "2      306       0.1662        tech\n",
      "3      117       0.1392        tech\n",
      "4      484       0.1392        tech\n",
      "5      408       0.1372        tech\n",
      "6      275       0.1372        tech\n",
      "7      495       0.1356        tech\n",
      "8      132       0.1271        tech\n",
      "9      464       0.1265        tech\n",
      "ID of query document  534\n",
      "   news_id  Jaccard_sim class_label\n",
      "0      534       1.0000        tech\n",
      "1      211       0.1227        tech\n",
      "2      324       0.1107        tech\n",
      "3      371       0.1106        tech\n",
      "4      183       0.1106        tech\n",
      "5      330       0.1106        tech\n",
      "6      525       0.1077        tech\n",
      "7       83       0.0912        tech\n",
      "8      440       0.0909        tech\n",
      "9      255       0.0885        tech\n"
     ]
    }
   ],
   "source": [
    "start_bitv = time.time()\n",
    "def bitvector_jac(file_query,file):\n",
    "    jaccar_array2 =[]\n",
    "    for row1 in range(len(file_query)): # loop over 1-4 rows in bitvector_query(no. of docs)\n",
    "        jaccar_array1=[]\n",
    "        for row2 in range(len(file)): # loop over all rows in bitvector_all (no. of docs)\n",
    "            count = 0\n",
    "            count_zero=0\n",
    "            for col in range(len(file.columns)): # loop over all feature bitvector per document\n",
    "                # count two comparative rows of bivector equals to 1\n",
    "                if file_query.iloc[row1,col]== file.iloc[row2,col]==1:\n",
    "                    count+=1\n",
    "                # count two comparative rows of bivector equals to 0\n",
    "                elif file_query.iloc[row1,col]== file.iloc[row2,col]==0:\n",
    "                    count_zero+=1\n",
    "            # count jaccard similarity of comparative rows \n",
    "            jaccar_array1.append(round(count/(len(file.columns)-count_zero),4))\n",
    "        jaccar_array2.append(jaccar_array1)\n",
    "    return(np.array(jaccar_array2))\n",
    "# output n*4 jaccard similarity (n is no. of docs in bitvector_all) \n",
    "ground_jac = bitvector_jac(file_query,file)\n",
    "print(\"dimension of ground_truth similarity table: \", ground_jac.shape)\n",
    "\n",
    "# print result of top 10 jaccard similarity of bitvector comparison as ground truth\n",
    "for i in range(4):\n",
    "    print(\"ID of query document \",i+531)\n",
    "    print(doclist(D_file,ground_jac)[i])\n",
    "end_bitv = time.time()"
   ]
  },
  {
   "cell_type": "markdown",
   "id": "623de3e5",
   "metadata": {},
   "source": [
    "(c) Compare the query time in Part II(a) and Part II(b) per query in milliseconds and comment on\n",
    "their differences if any. [5 pts]"
   ]
  },
  {
   "cell_type": "code",
   "execution_count": 54,
   "id": "a4139022",
   "metadata": {},
   "outputs": [
    {
     "name": "stdout",
     "output_type": "stream",
     "text": [
      "timespan for LSH jaccard similarity comparison:  12776.0 ms\n",
      "timespan for bitvector jaccard similarity comparison:  3334347.0 ms\n"
     ]
    }
   ],
   "source": [
    "# time of computation in milliseconds\n",
    "print(\"timespan for LSH jaccard similarity comparison: \", round(end_LSH - start_LSH,3)*1000,\"ms\")\n",
    "print(\"timespan for bitvector jaccard similarity comparison: \", round(end_bitv - start_bitv,3)*1000,\"ms\")"
   ]
  },
  {
   "cell_type": "markdown",
   "id": "1fc694a2",
   "metadata": {},
   "source": [
    "Part III: Search Quality Evaluation [25 pts]\n",
    "\n",
    "(a) Investigate the impact of the hash size (k). Given l=10, for each value of hash size k\n",
    "compute the F1-score for each query q (𝐹1 ) using the reported result from query q in Part II(a)\n",
    "𝑞\n",
    "as search results and Part II(b) as ground-truth. Take the average of F1-score across all queries\n",
    "at k. Please report:\n",
    "1. the F1-score plot with a varying k=[2,4,8]. \n",
    "2. the average query time in milliseconds with a varying k=[2,4,8]. [20 pts]"
   ]
  },
  {
   "cell_type": "code",
   "execution_count": 64,
   "id": "5cfca553",
   "metadata": {},
   "outputs": [
    {
     "name": "stdout",
     "output_type": "stream",
     "text": [
      "timespan for k= 2 is 9917.0 ms\n",
      "Average F1-score is:  0.225 Average TP:  2.25 Average FN:  7.75 Average FP:  7.75\n",
      "timespan for k= 4 is 19976.0 ms\n",
      "Average F1-score is:  0.1 Average TP:  1.0 Average FN:  9.0 Average FP:  9.0\n",
      "timespan for k= 8 is 40212.0 ms\n",
      "Average F1-score is:  0.15 Average TP:  1.5 Average FN:  8.5 Average FP:  8.5\n"
     ]
    }
   ],
   "source": [
    "# compute Jaccard similarity by locality senstive hashing when k = 2,4,8 & compute F1-scores\n",
    "Fscorelist=[]\n",
    "for kvalue in range(3):    \n",
    "    time_start = time.time()\n",
    "  # group bitvector_query (first four rows) and bitvector_all    \n",
    "    array_compare=array_query+array_all\n",
    "    # do LSH for array_compare data\n",
    "    result_query = minhash_level2(array_compare,2**(kvalue+1),10) # LSH for k = 2,4,8 and L=10\n",
    "    #jaccard similarity computation for first 4 columns against all rest of columnns in hash tables\n",
    "    Q =result_query[:,0:4]\n",
    "    Dq = result_query[:,4:539]\n",
    "    LSH_result =LSH_jac(Q,Dq)\n",
    "    # get top 10 articles jaccard similarity and convert them into 1 if similarity >=0.8, otherwise 0, compute F1 scores.\n",
    "    Fscore=0\n",
    "    TP=0\n",
    "    FN=0\n",
    "    FP=0\n",
    "    for i in range(4): \n",
    "        y_LSH = (np.argsort(-LSH_result[i,:])[:10]+1).tolist()# LSH top 10 documents list\n",
    "        y_act = (np.argsort(-ground_jac[i,:])[:10]+1).tolist()# real top10 doc list\n",
    "        TP += len(set(y_LSH).intersection(y_act)) # calculate F score based on class labels\n",
    "        FN += len(set(y_act)-set(y_LSH))\n",
    "        FP += len(set(y_LSH)-set(y_act))\n",
    "    Fscore = TP / (TP + 0.5*(FP+FN))\n",
    "    time_finish = time.time()\n",
    "    time_diff = round(time_finish - time_start, 3)\n",
    "    print(\"timespan for k=\", 2**(kvalue+1), \"is\", time_diff*1000,\"ms\")    \n",
    "    print(\"Average F1-score is: \",Fscore, \"Average TP: \",TP/4, \"Average FN: \", FN/4, \"Average FP: \", FP/4\n",
    "    Fscorelist.append(Fscore)"
   ]
  },
  {
   "cell_type": "code",
   "execution_count": 63,
   "id": "b0c7ea89",
   "metadata": {},
   "outputs": [
    {
     "data": {
      "text/plain": [
       "[Text(0.5, 0, 'K value'), Text(0, 0.5, 'F1-score')]"
      ]
     },
     "execution_count": 63,
     "metadata": {},
     "output_type": "execute_result"
    },
    {
     "data": {
      "image/png": "[encoded data removed]",
      "text/plain": [
       "<Figure size 720x720 with 1 Axes>"
      ]
     },
     "metadata": {},
     "output_type": "display_data"
    }
   ],
   "source": [
    "# plot F1-scores with varying K =2,4,8\n",
    "sns.regplot(x=x, y=y)\n",
    "x=[2,4,8]\n",
    "y=[0.125,0.1,0.15]\n",
    "plt.clf()\n",
    "sns.set(rc={'figure.figsize':(10,10)})\n",
    "ax=sns.lineplot(x=x,y=y,color=\"red\")\n",
    "ax.set(xlabel='K value', ylabel='F1-score')\n"
   ]
  },
  {
   "cell_type": "markdown",
   "id": "37a077da",
   "metadata": {},
   "source": [
    "(b) Explain what you have observed from Part III(a) and suggest how you would tune the\n",
    "number of hash size (k) in terms of higher F1-score and lesser query time, respectively? "
   ]
  },
  {
   "cell_type": "markdown",
   "id": "54c04a19",
   "metadata": {},
   "source": [
    "Because except the 100% match of similarity, the rest of similarities are way below threshold 0.8. We do not see obvious difference of different k impact on F-score performance. When k increases, the computational time increases dramatically. According to the performance curve (s vs. 1-(1-s^r)^b), increasing b value would decrease false negative values (FN) and increase false positive values (FP). Reversely increasing r value would cause FN increasing and FP decreasing. It really depends on the application in order to find the optimum turning parameters r and b. For example in some medical applications, because early medical intervention is crucial to some diseases, setting low threshold and minimizing FN would be prioritized. In this case we would choose increasing b and decreasing r values."
   ]
  }
 ],
 "metadata": {
  "kernelspec": {
   "display_name": "Python 3 (ipykernel)",
   "language": "python",
   "name": "python3"
  },
  "language_info": {
   "codemirror_mode": {
    "name": "ipython",
    "version": 3
   },
   "file_extension": ".py",
   "mimetype": "text/x-python",
   "name": "python",
   "nbconvert_exporter": "python",
   "pygments_lexer": "ipython3",
   "version": "3.9.7"
  }
 },
 "nbformat": 4,
 "nbformat_minor": 5
}
